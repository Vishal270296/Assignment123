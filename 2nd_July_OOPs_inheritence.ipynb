{
 "cells": [
  {
   "cell_type": "markdown",
   "id": "03e73662",
   "metadata": {},
   "source": [
    "1.\tExplain what inheritance is in object-oriented programming and why it is used.\n",
    "\n",
    "Solution: Inheritance is a fundamental concept in OOP that allows one class (called the derived or subclass) to inherit the properties and behaviors (attributes and methods) of another class (called the base or superclass). It is used to establish a hierarchy of classes, where derived classes can reuse and extend the functionality of base classes. Inheritance promotes code reuse, modularity, and the creation of specialized classes based on existing ones.\n",
    "\n"
   ]
  },
  {
   "cell_type": "markdown",
   "id": "465d662f",
   "metadata": {},
   "source": [
    "2.\tDiscuss the concept of single inheritance and multiple inheritance, highlighting their differences and advantages.\n",
    "\n",
    "Solution: Single Inheritance vs. Multiple Inheritance:\n",
    "\n",
    "Single Inheritance: In single inheritance, a derived class can inherit from only one base class. This means that each class has a single parent class. Single inheritance is simpler and less prone to ambiguity but may limit flexibility in certain situations.\n",
    "\n",
    "Multiple Inheritance: In multiple inheritance, a derived class can inherit from more than one base class. This allows for greater flexibility but can lead to issues like the \"diamond problem\" where ambiguity arises when two base classes have a method with the same name. Multiple inheritance is more complex and requires careful handling.\n"
   ]
  },
  {
   "cell_type": "markdown",
   "id": "e7884f27",
   "metadata": {},
   "source": [
    "3. Explain the terms \"base class\" and \"derived class\" in the context of inheritance.\n",
    "\n",
    "Solution: Base Class (Superclass or Parent Class): The base class is the class whose attributes and methods are inherited by other classes. It provides a template for derived classes.\n",
    "\n",
    "Derived Class (Subclass or Child Class): The derived class is the class that inherits attributes and methods from the base class. It can also add its own attributes and methods or override the inherited ones"
   ]
  },
  {
   "cell_type": "markdown",
   "id": "b16ce012",
   "metadata": {},
   "source": [
    "4.\tWhat is the significance of the \"protected\" access modifier in inheritance? How does it differ from \"private\" and \"public\" modifiers?\n",
    "\n",
    "Solutin: \"Protected\" Access Modifier: In many programming languages, including Python, \"protected\" is a visibility modifier that indicates that an attribute or method is not intended to be accessed directly from outside the class, but it can still be accessed by derived classes. It is denoted by a single underscore prefix (e.g., _protected_var). In contrast:\n",
    "\n",
    "\"Private\" members are denoted with double underscores (e.g., __private_var) and are not directly accessible from outside the class.\n",
    "\"Public\" members have no special notation and are accessible from anywhere.\n",
    "The use of \"protected\" allows derived classes to access and modify certain attributes or methods, maintaining a level of encapsulation while allowing for inheritance."
   ]
  },
  {
   "cell_type": "markdown",
   "id": "bb0709a6",
   "metadata": {},
   "source": [
    "5.What is the purpose of the \"super\" keyword in inheritance? Provide an example.\n",
    "\n",
    "\"super\" Keyword in Inheritance: The \"super\" keyword is used in inheritance to call a method from the parent (base) class within the context of the child (derived) class. It is commonly used when a derived class wants to extend or override a method from the base class while still utilizing the functionality of the base class's method. Here's an example:"
   ]
  },
  {
   "cell_type": "code",
   "execution_count": 1,
   "id": "e29ea6e1",
   "metadata": {},
   "outputs": [
    {
     "name": "stdout",
     "output_type": "stream",
     "text": [
      "This is the parent class\n",
      "This is the child class\n"
     ]
    }
   ],
   "source": [
    "class Parent:\n",
    "    def show_message(self):\n",
    "        print(\"This is the parent class\")\n",
    "\n",
    "class Child(Parent):\n",
    "    def show_message(self):\n",
    "        super().show_message()\n",
    "        print(\"This is the child class\")\n",
    "\n",
    "child = Child()\n",
    "child.show_message()\n"
   ]
  },
  {
   "cell_type": "markdown",
   "id": "e635580e",
   "metadata": {},
   "source": [
    "6.\tCreate a base class called \"Vehicle\" with attributes like \"make\", \"model\", and \"year\". Then, create a derived class called \"Car\" that inherits from \"Vehicle\" and adds an attribute called \"fuel_type\". Implement appropriate methods in both classes.\n",
    "\n",
    "\n",
    "\n"
   ]
  },
  {
   "cell_type": "code",
   "execution_count": 2,
   "id": "b4a80605",
   "metadata": {},
   "outputs": [
    {
     "name": "stdout",
     "output_type": "stream",
     "text": [
      "Make: Toyota\n",
      "Model: Camry\n",
      "Year: 2022\n",
      "Fuel Type: Gasoline\n"
     ]
    }
   ],
   "source": [
    "class Vehicle:\n",
    "    def __init__(self, make, model, year):\n",
    "        self.make = make\n",
    "        self.model = model\n",
    "        self.year = year\n",
    "\n",
    "class Car(Vehicle):\n",
    "    def __init__(self, make, model, year, fuel_type):\n",
    "        super().__init__(make, model, year)\n",
    "        self.fuel_type = fuel_type\n",
    "\n",
    "    def display_car_info(self):\n",
    "        print(f\"Make: {self.make}\")\n",
    "        print(f\"Model: {self.model}\")\n",
    "        print(f\"Year: {self.year}\")\n",
    "        print(f\"Fuel Type: {self.fuel_type}\")\n",
    "# Create a Car object\n",
    "my_car = Car(\"Toyota\", \"Camry\", 2022, \"Gasoline\")\n",
    "\n",
    "# Display car information using the display_car_info method\n",
    "my_car.display_car_info()\n"
   ]
  },
  {
   "cell_type": "markdown",
   "id": "c83d8b2e",
   "metadata": {},
   "source": [
    "7.\tCreate a base class called \"Employee\" with attributes like \"name\" and \"salary.\" Derive two classes, \"Manager\" and \"Developer,\" from \"Employee.\" Add an additional attribute called \"department\" for the \"Manager\" class and \"programming_language\" for the \"Developer\" class.\n",
    "\n"
   ]
  },
  {
   "cell_type": "code",
   "execution_count": 3,
   "id": "845a0026",
   "metadata": {},
   "outputs": [
    {
     "name": "stdout",
     "output_type": "stream",
     "text": [
      "Employee 1:\n",
      "Name: John Doe\n",
      "Salary: 50000\n",
      "\n",
      "Manager 1:\n",
      "Name: Alice Smith\n",
      "Salary: 75000\n",
      "Department: HR\n",
      "\n",
      "Developer 1:\n",
      "Name: Bob Johnson\n",
      "Salary: 60000\n",
      "Programming Language: Python\n"
     ]
    }
   ],
   "source": [
    "class Employee:\n",
    "    def __init__(self, name, salary):\n",
    "        self.name = name\n",
    "        self.salary = salary\n",
    "\n",
    "class Manager(Employee):\n",
    "    def __init__(self, name, salary, department):\n",
    "        super().__init__(name, salary)\n",
    "        self.department = department\n",
    "\n",
    "class Developer(Employee):\n",
    "    def __init__(self, name, salary, programming_language):\n",
    "        super().__init__(name, salary)\n",
    "        self.programming_language = programming_language\n",
    "# Create instances of Employee, Manager, and Developer\n",
    "employee1 = Employee(\"John Doe\", 50000)\n",
    "manager1 = Manager(\"Alice Smith\", 75000, \"HR\")\n",
    "developer1 = Developer(\"Bob Johnson\", 60000, \"Python\")\n",
    "\n",
    "# Access and display attributes\n",
    "print(\"Employee 1:\")\n",
    "print(f\"Name: {employee1.name}\")\n",
    "print(f\"Salary: {employee1.salary}\\n\")\n",
    "\n",
    "print(\"Manager 1:\")\n",
    "print(f\"Name: {manager1.name}\")\n",
    "print(f\"Salary: {manager1.salary}\")\n",
    "print(f\"Department: {manager1.department}\\n\")\n",
    "\n",
    "print(\"Developer 1:\")\n",
    "print(f\"Name: {developer1.name}\")\n",
    "print(f\"Salary: {developer1.salary}\")\n",
    "print(f\"Programming Language: {developer1.programming_language}\")\n"
   ]
  },
  {
   "cell_type": "markdown",
   "id": "0e925584",
   "metadata": {},
   "source": [
    "8.\tDesign a base class called \"Shape\" with attributes like \"colour\" and \"border_width.\" Create derived classes, \"Rectangle\" and \"Circle,\" that inherit from \"Shape\" and add specific attributes like \"length\" and \"width\" for the \"Rectangle\" class and \"radius\" for the \"Circle\" class."
   ]
  },
  {
   "cell_type": "code",
   "execution_count": 4,
   "id": "5f1c744c",
   "metadata": {},
   "outputs": [
    {
     "name": "stdout",
     "output_type": "stream",
     "text": [
      "Rectangle:\n",
      "Colour: Blue\n",
      "Border Width: 2\n",
      "Length: 10\n",
      "Width: 5\n",
      "\n",
      "Circle:\n",
      "Colour: Red\n",
      "Border Width: 1\n",
      "Radius: 7\n"
     ]
    }
   ],
   "source": [
    "class Shape:\n",
    "    def __init__(self, colour, border_width):\n",
    "        self.colour = colour\n",
    "        self.border_width = border_width\n",
    "\n",
    "class Rectangle(Shape):\n",
    "    def __init__(self, colour, border_width, length, width):\n",
    "        super().__init__(colour, border_width)\n",
    "        self.length = length\n",
    "        self.width = width\n",
    "\n",
    "class Circle(Shape):\n",
    "    def __init__(self, colour, border_width, radius):\n",
    "        super().__init__(colour, border_width)\n",
    "        self.radius = radius\n",
    "# Create instances of Rectangle and Circle\n",
    "rectangle = Rectangle(\"Blue\", 2, 10, 5)\n",
    "circle = Circle(\"Red\", 1, 7)\n",
    "\n",
    "# Access and display attributes\n",
    "print(\"Rectangle:\")\n",
    "print(f\"Colour: {rectangle.colour}\")\n",
    "print(f\"Border Width: {rectangle.border_width}\")\n",
    "print(f\"Length: {rectangle.length}\")\n",
    "print(f\"Width: {rectangle.width}\\n\")\n",
    "\n",
    "print(\"Circle:\")\n",
    "print(f\"Colour: {circle.colour}\")\n",
    "print(f\"Border Width: {circle.border_width}\")\n",
    "print(f\"Radius: {circle.radius}\")\n"
   ]
  },
  {
   "cell_type": "markdown",
   "id": "697a6f22",
   "metadata": {},
   "source": [
    "9.\tCreate a base class called \"Device\" with attributes like \"brand\" and \"model.\" Derive two classes, \"Phone\" and \"Tablet,\" from \"Device.\" Add specific attributes like \"screen_size\" for the \"Phone\" class and \"battery_capacity\" for the \"Tablet\" class."
   ]
  },
  {
   "cell_type": "code",
   "execution_count": 5,
   "id": "6510c541",
   "metadata": {},
   "outputs": [
    {
     "name": "stdout",
     "output_type": "stream",
     "text": [
      "Phone:\n",
      "Brand: Apple\n",
      "Model: iPhone 12\n",
      "Screen Size (inches): 6.1\n",
      "\n",
      "Tablet:\n",
      "Brand: Samsung\n",
      "Model: Galaxy Tab S7\n",
      "Battery Capacity (mAh): 8000\n"
     ]
    }
   ],
   "source": [
    "class Device:\n",
    "    def __init__(self, brand, model):\n",
    "        self.brand = brand\n",
    "        self.model = model\n",
    "\n",
    "class Phone(Device):\n",
    "    def __init__(self, brand, model, screen_size):\n",
    "        super().__init__(brand, model)\n",
    "        self.screen_size = screen_size\n",
    "\n",
    "class Tablet(Device):\n",
    "    def __init__(self, brand, model, battery_capacity):\n",
    "        super().__init__(brand, model)\n",
    "        self.battery_capacity = battery_capacity\n",
    "# Create instances of Phone and Tablet\n",
    "phone = Phone(\"Apple\", \"iPhone 12\", 6.1)\n",
    "tablet = Tablet(\"Samsung\", \"Galaxy Tab S7\", 8000)\n",
    "\n",
    "# Access and display attributes\n",
    "print(\"Phone:\")\n",
    "print(f\"Brand: {phone.brand}\")\n",
    "print(f\"Model: {phone.model}\")\n",
    "print(f\"Screen Size (inches): {phone.screen_size}\\n\")\n",
    "\n",
    "print(\"Tablet:\")\n",
    "print(f\"Brand: {tablet.brand}\")\n",
    "print(f\"Model: {tablet.model}\")\n",
    "print(f\"Battery Capacity (mAh): {tablet.battery_capacity}\")\n"
   ]
  },
  {
   "cell_type": "markdown",
   "id": "e6f4b9f2",
   "metadata": {},
   "source": [
    "10.\tCreate a base class called \"BankAccount\" with attributes like \"account_number\" and \"balance.\" Derive two classes, \"SavingsAccount\" and \"CheckingAccount,\" from \"BankAccount.\" Add specific methods like \"calculate_interest\" for the \"SavingsAccount\" class and \"deduct_fees\" for the \"CheckingAccount\" class.\n"
   ]
  },
  {
   "cell_type": "code",
   "execution_count": 6,
   "id": "36df40c4",
   "metadata": {},
   "outputs": [
    {
     "name": "stdout",
     "output_type": "stream",
     "text": [
      "Interest Earned: $35.00\n",
      "Updated Balance: $490.00\n"
     ]
    }
   ],
   "source": [
    "class BankAccount:\n",
    "    def __init__(self, account_number, balance):\n",
    "        self.account_number = account_number\n",
    "        self.balance = balance\n",
    "\n",
    "class SavingsAccount(BankAccount):\n",
    "    def calculate_interest(self, rate):\n",
    "        return self.balance * (rate / 100)\n",
    "\n",
    "class CheckingAccount(BankAccount):\n",
    "    def deduct_fees(self, fee_amount):\n",
    "        self.balance -= fee_amount\n",
    "# Create instances of SavingsAccount and CheckingAccount\n",
    "savings_account = SavingsAccount(\"12345\", 1000.0)\n",
    "checking_account = CheckingAccount(\"67890\", 500.0)\n",
    "\n",
    "# Calculate interest for the savings account\n",
    "interest_rate = 3.5  # 3.5% annual interest rate\n",
    "interest_earned = savings_account.calculate_interest(interest_rate)\n",
    "print(f\"Interest Earned: ${interest_earned:.2f}\")\n",
    "\n",
    "# Deduct fees from the checking account\n",
    "fee_amount = 10.0  # $10 fee\n",
    "checking_account.deduct_fees(fee_amount)\n",
    "print(f\"Updated Balance: ${checking_account.balance:.2f}\")\n"
   ]
  },
  {
   "cell_type": "code",
   "execution_count": null,
   "id": "c5a8e01c",
   "metadata": {},
   "outputs": [],
   "source": []
  }
 ],
 "metadata": {
  "kernelspec": {
   "display_name": "Python 3 (ipykernel)",
   "language": "python",
   "name": "python3"
  },
  "language_info": {
   "codemirror_mode": {
    "name": "ipython",
    "version": 3
   },
   "file_extension": ".py",
   "mimetype": "text/x-python",
   "name": "python",
   "nbconvert_exporter": "python",
   "pygments_lexer": "ipython3",
   "version": "3.11.3"
  }
 },
 "nbformat": 4,
 "nbformat_minor": 5
}
